{
 "cells": [
  {
   "cell_type": "code",
   "execution_count": 9,
   "metadata": {},
   "outputs": [],
   "source": [
    "from pypinyin import pinyin,lazy_pinyin,Style"
   ]
  },
  {
   "cell_type": "markdown",
   "metadata": {},
   "source": [
    "#: 普通风格，不带声调。如： 中国 -> ``zhong guo``  \n",
    "NORMAL = 0  \n",
    "#: 标准声调风格，拼音声调在韵母第一个字母上（默认风格）。如： 中国 -> ``zhōng guó``  \n",
    "TONE = 1   \n",
    "#: 声调风格2，即拼音声调在各个韵母之后，用数字 [1-4] 进行表示。如： 中国 -> ``zho1ng guo2``   \n",
    "TONE2 = 2  \n",
    "#: 声调风格3，即拼音声调在各个拼音之后，用数字 [1-4] 进行表示。如： 中国 -> ``zhong1 guo2``  \n",
    "TONE3 = 8  \n",
    "#: 声母风格，只返回各个拼音的声母部分（注：有的拼音没有声母，详见 `#27`_）。如： 中国 -> ``zh g``  \n",
    "INITIALS = 3  \n",
    "#: 首字母风格，只返回拼音的首字母部分。如： 中国 -> ``z g``  \n",
    "FIRST_LETTER = 4  \n",
    "#: 韵母风格，只返回各个拼音的韵母部分，不带声调。如： 中国 -> ``ong uo``  \n",
    "FINALS = 5  \n",
    "#: 标准韵母风格，带声调，声调在韵母第一个字母上。如：中国 -> ``ōng uó``  \n",
    "FINALS_TONE = 6  \n",
    "#: 韵母风格2，带声调，声调在各个韵母之后，用数字 [1-4] 进行表示。如： 中国 -> ``o1ng uo2``  \n",
    "FINALS_TONE2 = 7  \n",
    "#: 韵母风格3，带声调，声调在各个拼音之后，用数字 [1-4] 进行表示。如： 中国 -> ``ong1 uo2``  \n",
    "FINALS_TONE3 = 9  \n",
    "#: 注音风格，带声调，阴平（第一声）不标。如： 中国 -> ``ㄓㄨㄥ ㄍㄨㄛˊ``  \n",
    "BOPOMOFO = 10  \n",
    "#: 注音风格，仅首字母。如： 中国 -> ``ㄓ ㄍ``  \n",
    "BOPOMOFO_FIRST = 11  \n",
    "#: 汉语拼音与俄语字母对照风格，声调在各个拼音之后，用数字 [1-4] 进行表示。如： 中国 -> ``чжун1 го2``  \n",
    "CYRILLIC = 12  \n",
    "#: 汉语拼音与俄语字母对照风格，仅首字母。如： 中国 -> ``ч г``  \n",
    "CYRILLIC_FIRST = 13  \n"
   ]
  },
  {
   "cell_type": "code",
   "execution_count": 3,
   "metadata": {},
   "outputs": [
    {
     "data": {
      "text/plain": [
       "[['chú'], ['hé'], ['rì'], ['dāng'], ['wǔ']]"
      ]
     },
     "execution_count": 3,
     "metadata": {},
     "output_type": "execute_result"
    }
   ],
   "source": [
    "# 默认值TONE风格 二维数组\n",
    "pinyin('锄禾日当午')"
   ]
  },
  {
   "cell_type": "code",
   "execution_count": 11,
   "metadata": {},
   "outputs": [
    {
     "data": {
      "text/plain": [
       "['chú', 'hé', 'rì', 'dāng', 'wǔ']"
      ]
     },
     "execution_count": 11,
     "metadata": {},
     "output_type": "execute_result"
    }
   ],
   "source": [
    "# 生成一维数组，用lazy_pinyin方法\n",
    "lazy_pinyin('锄禾日当午',style=Style.TONE)"
   ]
  },
  {
   "cell_type": "code",
   "execution_count": 12,
   "metadata": {},
   "outputs": [
    {
     "data": {
      "text/plain": [
       "['c', 'h', 'r', 'd', 'w']"
      ]
     },
     "execution_count": 12,
     "metadata": {},
     "output_type": "execute_result"
    }
   ],
   "source": [
    "# 首字母风格\n",
    "lazy_pinyin('锄禾日当午',style=Style.FIRST_LETTER)"
   ]
  }
 ],
 "metadata": {
  "kernelspec": {
   "display_name": "Python 3",
   "language": "python",
   "name": "python3"
  },
  "language_info": {
   "codemirror_mode": {
    "name": "ipython",
    "version": 3
   },
   "file_extension": ".py",
   "mimetype": "text/x-python",
   "name": "python",
   "nbconvert_exporter": "python",
   "pygments_lexer": "ipython3",
   "version": "3.10.11"
  }
 },
 "nbformat": 4,
 "nbformat_minor": 2
}
